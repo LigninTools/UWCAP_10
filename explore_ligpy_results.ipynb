{
 "cells": [
  {
   "cell_type": "markdown",
   "metadata": {},
   "source": [
    "# This is a notebook to explore the ligpy results after solving the ODE model\n",
    "\n",
    "Model results are saved by DDASAC in the format shown in the `ligpy/sample_results/` folder.  Users that rely on a different ODE solver should format their results in the same way in order to use these analysis tools."
   ]
  },
  {
   "cell_type": "code",
   "execution_count": 1,
   "metadata": {
    "collapsed": true
   },
   "outputs": [],
   "source": [
    "# import os\n",
    "import sys\n",
    "import fnmatch\n",
    "import copy\n",
    "import csv\n",
    "\n",
    "import numpy as np\n",
    "import matplotlib.pyplot as plt           \n",
    "# import cPickle as pickle\n",
    "import ipywidgets as widgets\n",
    "\n",
    "import ligpy.ligpy_utils as utils\n",
    "from ligpy.constants import MW\n",
    "from ligpy.analysis_tools import load_results\n"
   ]
  },
  {
   "cell_type": "markdown",
   "metadata": {},
   "source": [
    "### Load the results from a folder you choose\n",
    "\n",
    "Users should specify the directory where their results are saved here as `results_dir`.  Then, select the folder you would like to analyze through the rest of this notebook by clicking it in the selection box."
   ]
  },
  {
   "cell_type": "code",
   "execution_count": 5,
   "metadata": {
    "collapsed": false
   },
   "outputs": [],
   "source": [
    "# Absolute or relative path to the directory you've saved model results in\n",
    "results_dir = 'ligpy/sample_results/'\n",
    "\n",
    "results = !ls $results_dir\n",
    "which_result = widgets.Select(options=results)\n",
    "which_result"
   ]
  },
  {
   "cell_type": "code",
   "execution_count": 4,
   "metadata": {
    "collapsed": false
   },
   "outputs": [
    {
     "name": "stdout",
     "output_type": "stream",
     "text": [
      "There is not a third DDASAC results file (cool down period)\n",
      "\n",
      "If mass is conserved 1.0 should equal 0.998289709349\n",
      "\n"
     ]
    }
   ],
   "source": [
    "(end_time, output_time_step, initial_T, heating_rate, max_T, atol, rtol,\n",
    " plant, cool_time, y, t, T, specieslist, speciesindices,\n",
    " indices_to_species) = load_results(results_dir + which_result.value)\n",
    "\n",
    "last_t = t[-1]\n",
    "last_t_position = len(t)\n",
    "# convert temperature from K to C\n",
    "Temperature = T - 273.15\n",
    "\n",
    "# create a new matrix of mass fractions (instead of concentrations)\n",
    "m = copy.deepcopy(y)\n",
    "for species in specieslist:\n",
    "    # make an array of mass concentration (g/L)\n",
    "    m[:, speciesindices[species]] = (y[:, speciesindices[species]] *\n",
    "                                     MW[species][0])\n",
    "# total mass at time 0\n",
    "m_0 = m[0,:].sum(axis=0)\n",
    "# The mass fraction array\n",
    "m /= m_0\n",
    "\n",
    "# If you want to make sure all species are present in the MW dictionary run this\n",
    "# utils.check_species_in_MW(specieslist)\n",
    "\n",
    "# These two numbers should both be 1 if mass is conserved.  We know that some\n",
    "# protons are not tracked in the model so this number should be close to 1\n",
    "print '\\nIf mass is conserved %s should equal %s\\n'\\\n",
    "        % (m[0,:].sum(axis=0),m[-1,:].sum(axis=0))"
   ]
  },
  {
   "cell_type": "code",
   "execution_count": null,
   "metadata": {
    "collapsed": false
   },
   "outputs": [],
   "source": []
  },
  {
   "cell_type": "code",
   "execution_count": 9,
   "metadata": {
    "collapsed": false
   },
   "outputs": [],
   "source": []
  },
  {
   "cell_type": "code",
   "execution_count": null,
   "metadata": {
    "collapsed": true
   },
   "outputs": [],
   "source": []
  }
 ],
 "metadata": {
  "kernelspec": {
   "display_name": "Python 2",
   "language": "python",
   "name": "python2"
  },
  "language_info": {
   "codemirror_mode": {
    "name": "ipython",
    "version": 2
   },
   "file_extension": ".py",
   "mimetype": "text/x-python",
   "name": "python",
   "nbconvert_exporter": "python",
   "pygments_lexer": "ipython2",
   "version": "2.7.11"
  }
 },
 "nbformat": 4,
 "nbformat_minor": 0
}
